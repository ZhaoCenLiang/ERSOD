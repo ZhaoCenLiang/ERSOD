{
 "cells": [
  {
   "cell_type": "code",
   "execution_count": 1,
   "id": "13b5998f-73e0-4d83-8181-d28ee4680ae2",
   "metadata": {},
   "outputs": [],
   "source": [
    "# import necessary package\n",
    "import numpy as np\n",
    "import pandas as pd \n",
    "import matplotlib.pyplot as plt\n",
    "\n",
    "import torch\n",
    "import torch.nn as nn\n",
    "import torch.optim as optim\n",
    "\n",
    "%matplotlib inline"
   ]
  },
  {
   "cell_type": "code",
   "execution_count": 2,
   "id": "79d8e541-136b-43c9-ac60-61f94272f599",
   "metadata": {},
   "outputs": [],
   "source": [
    "# load example data\n",
    "base_data = pd.read_csv('data_test_2010_to_2014.csv')"
   ]
  },
  {
   "cell_type": "code",
   "execution_count": 3,
   "id": "ae550be4-9ee8-45ec-9830-fd81dc42483a",
   "metadata": {},
   "outputs": [
    {
     "name": "stdout",
     "output_type": "stream",
     "text": [
      "Index(['mod09_b1', 'mod09_b2', 'mod09_b3', 'mod09_b4', 'b11', 'SWIR',\n",
      "       'top_up_now', 'low_up_now', 'peak80_up_now', 'peak60_up_now',\n",
      "       'peak40_up_now', 'peak20_up_now', 'los80_up_now', 'los60_up_now',\n",
      "       'los40_up_now', 'los20_up_now', 'SW_in', 'GPP_VUT_NT', 'SW_GLASS'],\n",
      "      dtype='object')\n"
     ]
    }
   ],
   "source": [
    "# pre-process\n",
    "info_data = base_data.iloc[:,1:9]\n",
    "feature_data = base_data.iloc[:,9:]\n",
    "# get feature variables \n",
    "quant_features_b = feature_data.columns\n",
    "print(quant_features_b)\n",
    "# normalization\n",
    "scaled_features_b = {}\n",
    "for each in quant_features_b:\n",
    "    mean, std = feature_data[each].mean(), feature_data[each].std()\n",
    "    scaled_features_b[each] = [mean, std]\n",
    "    feature_data.loc[:, each] = (feature_data[each] - mean)/std"
   ]
  },
  {
   "cell_type": "code",
   "execution_count": 4,
   "id": "cae0ddad-3de8-41cb-a233-77d3797c5881",
   "metadata": {},
   "outputs": [
    {
     "data": {
      "text/html": [
       "<div>\n",
       "<style scoped>\n",
       "    .dataframe tbody tr th:only-of-type {\n",
       "        vertical-align: middle;\n",
       "    }\n",
       "\n",
       "    .dataframe tbody tr th {\n",
       "        vertical-align: top;\n",
       "    }\n",
       "\n",
       "    .dataframe thead th {\n",
       "        text-align: right;\n",
       "    }\n",
       "</style>\n",
       "<table border=\"1\" class=\"dataframe\">\n",
       "  <thead>\n",
       "    <tr style=\"text-align: right;\">\n",
       "      <th></th>\n",
       "      <th>GPP_Plan_B3</th>\n",
       "    </tr>\n",
       "  </thead>\n",
       "  <tbody>\n",
       "    <tr>\n",
       "      <th>0</th>\n",
       "      <td>7.916829</td>\n",
       "    </tr>\n",
       "    <tr>\n",
       "      <th>1</th>\n",
       "      <td>7.583105</td>\n",
       "    </tr>\n",
       "    <tr>\n",
       "      <th>2</th>\n",
       "      <td>6.660279</td>\n",
       "    </tr>\n",
       "    <tr>\n",
       "      <th>3</th>\n",
       "      <td>7.412223</td>\n",
       "    </tr>\n",
       "    <tr>\n",
       "      <th>4</th>\n",
       "      <td>7.388118</td>\n",
       "    </tr>\n",
       "  </tbody>\n",
       "</table>\n",
       "</div>"
      ],
      "text/plain": [
       "   GPP_Plan_B3\n",
       "0     7.916829\n",
       "1     7.583105\n",
       "2     6.660279\n",
       "3     7.412223\n",
       "4     7.388118"
      ]
     },
     "execution_count": 4,
     "metadata": {},
     "output_type": "execute_result"
    }
   ],
   "source": [
    "# set Plan B3\n",
    "data_ann = feature_data.drop(['SW_in','GPP_VUT_NT','mod09_b3'],axis=1).values\n",
    "# build ANN\n",
    "input_size = data_ann.shape[1]\n",
    "hidden_size = [18,9,3]\n",
    "output_size = 1\n",
    "batch_size = 128\n",
    "\n",
    "class GPPNet(nn.Module):\n",
    "    def __init__(self):\n",
    "        super(GPPNet, self).__init__()\n",
    "        \n",
    "        self.layer1 = nn.Linear(input_size, hidden_size[0])\n",
    "        self.layer2 = nn.Linear(hidden_size[0], hidden_size[1])\n",
    "        self.layer3 = nn.Linear(hidden_size[1], hidden_size[2])\n",
    "        self.out = nn.Linear(hidden_size[2], output_size)\n",
    "\n",
    "    def forward(self, x):\n",
    "        x = torch.sigmoid(self.layer1(x))\n",
    "        x = torch.sigmoid(self.layer2(x))\n",
    "        x = torch.sigmoid(self.layer3(x))\n",
    "        x = self.out(x)\n",
    "        return x\n",
    "# load Plan B3 ANN model    \n",
    "neu = torch.load('ERSOD_Plan_B3.mdl')\n",
    "# estimation\n",
    "x =  torch.tensor(data_ann, dtype = torch.float, requires_grad = True)\n",
    "predict = neu(x)\n",
    "predict = predict.data.numpy()\n",
    "mean, std = scaled_features_b['GPP_VUT_NT']\n",
    "est = predict * std + mean\n",
    "\n",
    "estimation_b3 = pd.DataFrame(est) # GPP_B_G_mGreen\n",
    "estimation_b3.columns = ['GPP_Plan_B3']\n",
    "estimation_b3.head()"
   ]
  },
  {
   "cell_type": "code",
   "execution_count": 5,
   "id": "2fd7695e-a5df-4624-841e-70c8ec1e859d",
   "metadata": {},
   "outputs": [
    {
     "data": {
      "text/html": [
       "<div>\n",
       "<style scoped>\n",
       "    .dataframe tbody tr th:only-of-type {\n",
       "        vertical-align: middle;\n",
       "    }\n",
       "\n",
       "    .dataframe tbody tr th {\n",
       "        vertical-align: top;\n",
       "    }\n",
       "\n",
       "    .dataframe thead th {\n",
       "        text-align: right;\n",
       "    }\n",
       "</style>\n",
       "<table border=\"1\" class=\"dataframe\">\n",
       "  <thead>\n",
       "    <tr style=\"text-align: right;\">\n",
       "      <th></th>\n",
       "      <th>year</th>\n",
       "      <th>month</th>\n",
       "      <th>day</th>\n",
       "      <th>site</th>\n",
       "      <th>DOY</th>\n",
       "      <th>lat</th>\n",
       "      <th>lon</th>\n",
       "      <th>type</th>\n",
       "      <th>GPP_VUT_NT</th>\n",
       "      <th>GPP_Plan_B3</th>\n",
       "      <th>SW_GLASS</th>\n",
       "      <th>SW_in</th>\n",
       "    </tr>\n",
       "  </thead>\n",
       "  <tbody>\n",
       "    <tr>\n",
       "      <th>0</th>\n",
       "      <td>2010</td>\n",
       "      <td>1</td>\n",
       "      <td>1</td>\n",
       "      <td>AR-SLu</td>\n",
       "      <td>1</td>\n",
       "      <td>-33.4648</td>\n",
       "      <td>-66.4598</td>\n",
       "      <td>MF</td>\n",
       "      <td>11.1856</td>\n",
       "      <td>7.916829</td>\n",
       "      <td>342.31</td>\n",
       "      <td>392.221</td>\n",
       "    </tr>\n",
       "    <tr>\n",
       "      <th>1</th>\n",
       "      <td>2010</td>\n",
       "      <td>1</td>\n",
       "      <td>2</td>\n",
       "      <td>AR-SLu</td>\n",
       "      <td>2</td>\n",
       "      <td>-33.4648</td>\n",
       "      <td>-66.4598</td>\n",
       "      <td>MF</td>\n",
       "      <td>11.4885</td>\n",
       "      <td>7.583105</td>\n",
       "      <td>344.32</td>\n",
       "      <td>397.848</td>\n",
       "    </tr>\n",
       "    <tr>\n",
       "      <th>2</th>\n",
       "      <td>2010</td>\n",
       "      <td>1</td>\n",
       "      <td>4</td>\n",
       "      <td>AR-SLu</td>\n",
       "      <td>4</td>\n",
       "      <td>-33.4648</td>\n",
       "      <td>-66.4598</td>\n",
       "      <td>MF</td>\n",
       "      <td>11.3952</td>\n",
       "      <td>6.660279</td>\n",
       "      <td>355.16</td>\n",
       "      <td>387.215</td>\n",
       "    </tr>\n",
       "    <tr>\n",
       "      <th>3</th>\n",
       "      <td>2010</td>\n",
       "      <td>1</td>\n",
       "      <td>6</td>\n",
       "      <td>AR-SLu</td>\n",
       "      <td>6</td>\n",
       "      <td>-33.4648</td>\n",
       "      <td>-66.4598</td>\n",
       "      <td>MF</td>\n",
       "      <td>13.0215</td>\n",
       "      <td>7.412223</td>\n",
       "      <td>337.46</td>\n",
       "      <td>385.330</td>\n",
       "    </tr>\n",
       "    <tr>\n",
       "      <th>4</th>\n",
       "      <td>2010</td>\n",
       "      <td>1</td>\n",
       "      <td>7</td>\n",
       "      <td>AR-SLu</td>\n",
       "      <td>7</td>\n",
       "      <td>-33.4648</td>\n",
       "      <td>-66.4598</td>\n",
       "      <td>MF</td>\n",
       "      <td>11.9944</td>\n",
       "      <td>7.388118</td>\n",
       "      <td>334.42</td>\n",
       "      <td>370.611</td>\n",
       "    </tr>\n",
       "  </tbody>\n",
       "</table>\n",
       "</div>"
      ],
      "text/plain": [
       "   year  month  day    site  DOY      lat      lon type  GPP_VUT_NT  \\\n",
       "0  2010      1    1  AR-SLu    1 -33.4648 -66.4598   MF     11.1856   \n",
       "1  2010      1    2  AR-SLu    2 -33.4648 -66.4598   MF     11.4885   \n",
       "2  2010      1    4  AR-SLu    4 -33.4648 -66.4598   MF     11.3952   \n",
       "3  2010      1    6  AR-SLu    6 -33.4648 -66.4598   MF     13.0215   \n",
       "4  2010      1    7  AR-SLu    7 -33.4648 -66.4598   MF     11.9944   \n",
       "\n",
       "   GPP_Plan_B3  SW_GLASS    SW_in  \n",
       "0     7.916829    342.31  392.221  \n",
       "1     7.583105    344.32  397.848  \n",
       "2     6.660279    355.16  387.215  \n",
       "3     7.412223    337.46  385.330  \n",
       "4     7.388118    334.42  370.611  "
      ]
     },
     "execution_count": 5,
     "metadata": {},
     "output_type": "execute_result"
    }
   ],
   "source": [
    "# export result\n",
    "result = pd.concat([info_data,base_data['GPP_VUT_NT'],estimation_b3,\n",
    "                    base_data['SW_GLASS'],base_data['SW_in']],axis = 1)\n",
    "result.head()\n",
    "#result.to_csv(r'result/ERSOD_Plan_B3.csv', index=False)"
   ]
  },
  {
   "cell_type": "code",
   "execution_count": 6,
   "id": "c481722c-0d9a-45d2-8d58-032def9e55a2",
   "metadata": {},
   "outputs": [
    {
     "data": {
      "text/plain": [
       "<Figure size 1800x1200 with 0 Axes>"
      ]
     },
     "execution_count": 6,
     "metadata": {},
     "output_type": "execute_result"
    },
    {
     "data": {
      "image/png": "[encoded data removed]",
      "text/plain": [
       "<Figure size 432x288 with 1 Axes>"
      ]
     },
     "metadata": {
      "needs_background": "light"
     },
     "output_type": "display_data"
    },
    {
     "data": {
      "text/plain": [
       "<Figure size 1800x1200 with 0 Axes>"
      ]
     },
     "metadata": {},
     "output_type": "display_data"
    }
   ],
   "source": [
    "Bias = result['GPP_VUT_NT'] - result['GPP_Plan_B3']\n",
    "SE = np.square(Bias)\n",
    "MSE = np.mean(SE)\n",
    "RMSE = np.sqrt(MSE)\n",
    "R2 = 1 - (np.var(Bias)/np.var(result['GPP_VUT_NT']))\n",
    "# scatter plot\n",
    "plt.rcParams['font.sans-serif'] = 'Times New Roman'\n",
    "plt.scatter(result['GPP_VUT_NT'], result['GPP_Plan_B3'], alpha = 1/20,s = 5)\n",
    "plt.xlabel(\"GPP$_{FLUXNET}$\"+\" [ g C m$^{-2}$ day$^{-1}$]\",size=13)\n",
    "plt.ylabel(\"GPP$_{ERSOD}$\"+\" [ g C m$^{-2}$ day$^{-1}$]\",size=13)\n",
    "plt.axis('scaled')\n",
    "plt.xlim(0,30)\n",
    "plt.ylim(0,30)\n",
    "plt.text(20,2,'$RMSE = %.3f$'% RMSE)\n",
    "plt.text(20,4,'R$^{2}$'+'$ = %.3f$'% R2)\n",
    "plt.plot([0,100],[0,100],'black',lw = 0.8)\n",
    "plt.figure(dpi = 300)"
   ]
  }
 ],
 "metadata": {
  "kernelspec": {
   "display_name": "Python 3 (ipykernel)",
   "language": "python",
   "name": "python3"
  },
  "language_info": {
   "codemirror_mode": {
    "name": "ipython",
    "version": 3
   },
   "file_extension": ".py",
   "mimetype": "text/x-python",
   "name": "python",
   "nbconvert_exporter": "python",
   "pygments_lexer": "ipython3",
   "version": "3.8.12"
  }
 },
 "nbformat": 4,
 "nbformat_minor": 5
}
